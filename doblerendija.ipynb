{
  "nbformat": 4,
  "nbformat_minor": 0,
  "metadata": {
    "colab": {
      "provenance": []
    },
    "kernelspec": {
      "name": "python3",
      "display_name": "Python 3"
    },
    "language_info": {
      "name": "python"
    }
  },
  "cells": [
    {
      "cell_type": "markdown",
      "source": [
        "prueba de compatibilidad en github"
      ],
      "metadata": {
        "id": "qsJs6Vfe1RUz"
      }
    },
    {
      "cell_type": "code",
      "execution_count": null,
      "metadata": {
        "id": "JNn9Dw5ny1P1"
      },
      "outputs": [],
      "source": [
        "import libnumcplx as lb\n",
        "#Se realizara una simulacion del experimento, a partir\n",
        "# del modelo ya plateado en clase.\n",
        "# para hacer mas entendible la matriz, se le asignara una letra a cada uno de los numeros diferentes a 0 y 1.\n",
        "a = 1/(2**(1/2))\n",
        "b = (-1+1j/(6**(1/2)))\n",
        "c = (-1-1j/(6**(1/2)))\n",
        "d = (1-1j/(6**(1/2)))\n",
        "M = [\n",
        "    [0,0,0,0,0,0,0,0],\n",
        "    [a,0,0,0,0,0,0,0],\n",
        "    [a,0,0,0,0,0,0,0],\n",
        "    [0,b,0,1,0,0,0,0],\n",
        "    [0,c,0,0,1,0,0,0],\n",
        "    [0,d,b,0,0,1,0,0],\n",
        "    [0,0,c,0,0,0,1,0],\n",
        "    [0,0,d,0,0,0,0,1]\n",
        "    ]\n",
        "\n",
        "X = [1,0,0,0,0,0,0,0]\n",
        "\n",
        "#X es el estado 0 del experimento, se hara la multiplicacion entre la matriz M\n",
        "# y la transpuesta de X con la intencion de encontrar el siguiente estado del experimento.\n",
        "\n",
        "MX = [1*0, 1*1/(2**(1/2)), 1*1/(2**(1/2)), 1*0, 1*0, 1*0, 1*0, 1*0]\n",
        "\n",
        "#en dicho estado se evidencia el comportamiento del experimento, puesto que el foton en la mitad\n",
        "# de los universos pasara por la una de las rendijas y en la otra mitad pasara por la otra rendija.\n",
        "\n",
        "# Para hallar el siguiente estado del eperimento, se hara la multiplicacion entre M y la transpuesta de MX.\n",
        "# Con la intencion de facilitar el uso de nuestra libreria y teniendo en cuenta que fue diseñadas para tuplas de numeros complejos,\n",
        "# se convertiran los numeros ya mencionados en tuplas.\n",
        "a = (1/(2**(1/2)),0)\n",
        "b = (-1/(6**(1/2)),(1/(6**(1/2))))\n",
        "c = (-1/(6**(1/2)),(-1/(6**(1/2))))\n",
        "d = (1/(6**(1/2)),(-1/(6**(1/2))))\n",
        "\n",
        "MMX = [ 0 ,\n",
        "        0 ,\n",
        "        0 ,\n",
        "       lb.multiC(a,b),\n",
        "       lb.multiC(a,c),\n",
        "       lb.sumaC(lb.multiC(a,d), lb.multiC(a,b)),\n",
        "       lb.multiC(a,c),\n",
        "       lb.multiC(a,d),\n",
        "       ]\n",
        "\n",
        "# Por ultimo ya teniendo el ultimo estado, debido a que de ahora en adelante es el mismo resultado,\n",
        "# se hara la impresion del resultado final.(Tener en cuenta que el primer valor de cada tupla es el valor\n",
        "# real del numero complejo, mientras que el segundo es el imaginario)\n",
        "\n",
        "print('| ',MMX[0], ' |')\n",
        "print('| ',MMX[1], ' |')\n",
        "print('| ',MMX[2], ' |')\n",
        "print('| ',MMX[3], ' |')\n",
        "print('| ',MMX[4], ' |')\n",
        "print('| ',MMX[5], ' |')\n",
        "print('| ',MMX[6], ' |')\n",
        "print('| ',MMX[7], ' |')\n"
      ]
    }
  ]
}